{
 "cells": [
  {
   "cell_type": "markdown",
   "metadata": {},
   "source": [
    "# Reacher (Continuous Control)\n",
    "\n",
    "---\n",
    "\n",
    "Use this notebook to train and/or test your agent for the Reacher environment.  Follow the instructions below to get started!\n",
    "\n",
    "### 1. Start the Environment\n",
    "\n",
    "Run the next code cell to install a few packages.  This line will take a few minutes to run!"
   ]
  },
  {
   "cell_type": "code",
   "execution_count": null,
   "metadata": {},
   "outputs": [],
   "source": [
    "!pip -q install ./python"
   ]
  },
  {
   "cell_type": "markdown",
   "metadata": {},
   "source": [
    "The environments corresponding to both versions of the environment are already saved in the Workspace and can be accessed at the file paths provided below.  \n",
    "\n",
    "Please select one of the two options below for loading the environment."
   ]
  },
  {
   "cell_type": "markdown",
   "metadata": {},
   "source": [
    "## 2. Loading the Environment for Training\n",
    "\n",
    "It automatically detects the platform and assigns the right file to the UnityEnvironment. The assumption is that the computer is 64 bit."
   ]
  },
  {
   "cell_type": "code",
   "execution_count": 1,
   "metadata": {},
   "outputs": [
    {
     "name": "stderr",
     "output_type": "stream",
     "text": [
      "INFO:unityagents:\n",
      "'Academy' started successfully!\n",
      "Unity Academy name: Academy\n",
      "        Number of Brains: 1\n",
      "        Number of External Brains : 1\n",
      "        Lesson number : 0\n",
      "        Reset Parameters :\n",
      "\t\tgoal_speed -> 1.0\n",
      "\t\tgoal_size -> 5.0\n",
      "Unity brain name: ReacherBrain\n",
      "        Number of Visual Observations (per agent): 0\n",
      "        Vector Observation space type: continuous\n",
      "        Vector Observation space size (per agent): 33\n",
      "        Number of stacked Vector Observation: 1\n",
      "        Vector Action space type: continuous\n",
      "        Vector Action space size (per agent): 4\n",
      "        Vector Action descriptions: , , , \n"
     ]
    }
   ],
   "source": [
    "from unityagents import UnityEnvironment\n",
    "import numpy as np\n",
    "import platform\n",
    "\n",
    "platform_files = {\"Windows\":r\".\\ENVs\\Reacher_Windows_x86_64\\Reacher.exe\",\n",
    "                 \"Linux\":r\"./ENVs/Reacher_Linux/Reacher_Linux/Reacher.x86_64\",\n",
    "                 \"Darwin\":r\"./ENVs/Reacher.app\"}\n",
    "file = platform_files[platform.system()]\n",
    "env = UnityEnvironment(file_name=file , no_graphics=True)"
   ]
  },
  {
   "cell_type": "markdown",
   "metadata": {},
   "source": [
    "## 3. Initializing our agent with environment parameters:"
   ]
  },
  {
   "cell_type": "code",
   "execution_count": 2,
   "metadata": {},
   "outputs": [],
   "source": [
    "from src.agent import Agent\n",
    "from collections import deque\n",
    "\n",
    "# get the default brain\n",
    "brain_name = env.brain_names[0]\n",
    "brain = env.brains[brain_name]\n",
    "\n",
    "# reset the environment\n",
    "env_info = env.reset(train_mode=True)[brain_name]\n",
    "\n",
    "# number of actions\n",
    "action_size = brain.vector_action_space_size\n",
    "\n",
    "# Init the state space and finding its size\n",
    "state = env_info.vector_observations[0]\n",
    "state_size = len(state)\n",
    "num_agents = len(env_info.agents)\n",
    "\n",
    "# Init our agent\n",
    "agent = Agent(state_size=state_size, action_size=action_size, num_agents=num_agents, random_seed=0)"
   ]
  },
  {
   "cell_type": "markdown",
   "metadata": {},
   "source": [
    "## 4. Training our DQN Agent for X Episodes"
   ]
  },
  {
   "cell_type": "code",
   "execution_count": 3,
   "metadata": {
    "scrolled": true
   },
   "outputs": [
    {
     "name": "stderr",
     "output_type": "stream",
     "text": [
      "                                                                                                                       \r"
     ]
    }
   ],
   "source": [
    "from src.train import train_ddpg\n",
    "episode_scores, average_scores = train_ddpg(agent, env, n_episodes=125)"
   ]
  },
  {
   "cell_type": "markdown",
   "metadata": {},
   "source": [
    "## 5. Plotting the Scores"
   ]
  },
  {
   "cell_type": "code",
   "execution_count": 4,
   "metadata": {},
   "outputs": [
    {
     "data": {
      "image/png": "[encoded data removed]",
      "text/plain": [
       "<Figure size 432x288 with 1 Axes>"
      ]
     },
     "metadata": {
      "needs_background": "light"
     },
     "output_type": "display_data"
    }
   ],
   "source": [
    "# plot the scores\n",
    "import matplotlib.pyplot as plt\n",
    "\n",
    "fig = plt.figure()\n",
    "ax = fig.add_subplot(111)\n",
    "plt.plot(np.arange(len(episode_scores)), episode_scores)\n",
    "plt.plot(np.arange(len(average_scores)), average_scores)\n",
    "plt.ylabel('Score')\n",
    "plt.xlabel('Episode #')\n",
    "plt.legend([\"Episode Scores\", \"Average Scores\"])\n",
    "plt.show()"
   ]
  },
  {
   "cell_type": "code",
   "execution_count": 5,
   "metadata": {},
   "outputs": [],
   "source": [
    "env.close()"
   ]
  },
  {
   "cell_type": "markdown",
   "metadata": {},
   "source": [
    "# 6. Watch a smart Agent\n",
    "\n",
    "If you trained the agent or you just want to see a trained agent behavior, restart the notebook and run the section below."
   ]
  },
  {
   "cell_type": "code",
   "execution_count": 1,
   "metadata": {},
   "outputs": [
    {
     "name": "stderr",
     "output_type": "stream",
     "text": [
      "INFO:unityagents:\n",
      "'Academy' started successfully!\n",
      "Unity Academy name: Academy\n",
      "        Number of Brains: 1\n",
      "        Number of External Brains : 1\n",
      "        Lesson number : 0\n",
      "        Reset Parameters :\n",
      "\t\tgoal_speed -> 1.0\n",
      "\t\tgoal_size -> 5.0\n",
      "Unity brain name: ReacherBrain\n",
      "        Number of Visual Observations (per agent): 0\n",
      "        Vector Observation space type: continuous\n",
      "        Vector Observation space size (per agent): 33\n",
      "        Number of stacked Vector Observation: 1\n",
      "        Vector Action space type: continuous\n",
      "        Vector Action space size (per agent): 4\n",
      "        Vector Action descriptions: , , , \n"
     ]
    },
    {
     "name": "stdout",
     "output_type": "stream",
     "text": [
      "Agents average score: 33.05\n"
     ]
    }
   ],
   "source": [
    "from unityagents import UnityEnvironment\n",
    "import numpy as np\n",
    "import platform\n",
    "from src.agent import Agent\n",
    "from collections import deque\n",
    "\n",
    "platform_files = {\"Windows\":r\".\\ENVs\\Reacher_Windows_x86_64\\Reacher.exe\",\n",
    "                 \"Linux\":r\"./ENVs/Reacher_Linux/Reacher_Linux/Reacher.x86_64\",\n",
    "                 \"Darwin\":r\"./ENVs/Reacher.app\"}\n",
    "file = platform_files[platform.system()]\n",
    "env = UnityEnvironment(file_name=file) #, no_graphics=True)\n",
    "\n",
    "# get the default brain\n",
    "brain_name = env.brain_names[0]\n",
    "brain = env.brains[brain_name]\n",
    "\n",
    "# reset the environment\n",
    "env_info = env.reset(train_mode=False)[brain_name]\n",
    "\n",
    "# number of actions\n",
    "action_size = brain.vector_action_space_size\n",
    "\n",
    "# Init the state space and finding its size\n",
    "state = env_info.vector_observations[0]\n",
    "state_size = len(state)\n",
    "num_agents = len(env_info.agents)\n",
    "\n",
    "agent = Agent(state_size=state_size, action_size=action_size, num_agents=num_agents, random_seed=0)\n",
    "agent.load_brain()\n",
    "\n",
    "for _ in range(1):\n",
    "    # reset the unity environment\n",
    "    env_info = env.reset(train_mode=False)[brain_name]\n",
    "    states = env_info.vector_observations\n",
    "    # reset the agent for the new episode\n",
    "    agent.reset()\n",
    "    agent_scores = np.zeros(num_agents)\n",
    "    while True:\n",
    "        # determine actions for the unity agents from current sate\n",
    "        actions = agent.act(states)\n",
    "\n",
    "        # send the actions to the unity agents in the environment and receive resultant environment information\n",
    "        env_info = env.step(actions)[brain_name]\n",
    "\n",
    "        next_states = env_info.vector_observations  # get the next states for each unity agent in the environment\n",
    "        rewards = env_info.rewards  # get the rewards for each unity agent in the environment\n",
    "        dones = env_info.local_done  # see if episode has finished for each unity agent in the environment\n",
    "\n",
    "        # set new states to current states for determining next actions\n",
    "        states = next_states\n",
    "\n",
    "        # Update episode score for each unity agent\n",
    "        agent_scores += rewards\n",
    "\n",
    "        # If any unity agent indicates that the episode is done,\n",
    "        # then exit episode loop, to begin new episode\n",
    "        if np.any(dones):\n",
    "            break\n",
    "    print(f\"Agents average score: {agent_scores.mean():.2f}\")\n",
    "env.close()"
   ]
  },
  {
   "cell_type": "code",
   "execution_count": null,
   "metadata": {},
   "outputs": [],
   "source": []
  }
 ],
 "metadata": {
  "kernelspec": {
   "display_name": "Python 3",
   "language": "python",
   "name": "python3"
  },
  "language_info": {
   "codemirror_mode": {
    "name": "ipython",
    "version": 3
   },
   "file_extension": ".py",
   "mimetype": "text/x-python",
   "name": "python",
   "nbconvert_exporter": "python",
   "pygments_lexer": "ipython3",
   "version": "3.6.3"
  }
 },
 "nbformat": 4,
 "nbformat_minor": 2
}
